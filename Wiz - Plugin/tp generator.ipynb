{
 "cells": [
  {
   "cell_type": "code",
   "execution_count": 3,
   "metadata": {},
   "outputs": [],
   "source": [
    "import json\n",
    "from TouchPortalAPI.sdk_tools import generateDefinitionFromScript"
   ]
  },
  {
   "cell_type": "code",
   "execution_count": 4,
   "metadata": {},
   "outputs": [],
   "source": [
    "archivo = generateDefinitionFromScript(script=\"./wiz.py\")\n",
    "\n",
    "#guardar json\n",
    "with open('entry.tp', 'w') as outfile:\n",
    "    json.dump(archivo, outfile)"
   ]
  }
 ],
 "metadata": {
  "interpreter": {
   "hash": "7ca09f3c6ee0b48880ad7adcf80484ff9058b415486be73c8076e08fe50e5b8f"
  },
  "kernelspec": {
   "display_name": "Python 3.10.0 64-bit",
   "language": "python",
   "name": "python3"
  },
  "language_info": {
   "codemirror_mode": {
    "name": "ipython",
    "version": 3
   },
   "file_extension": ".py",
   "mimetype": "text/x-python",
   "name": "python",
   "nbconvert_exporter": "python",
   "pygments_lexer": "ipython3",
   "version": "3.10.0"
  },
  "orig_nbformat": 4
 },
 "nbformat": 4,
 "nbformat_minor": 2
}
